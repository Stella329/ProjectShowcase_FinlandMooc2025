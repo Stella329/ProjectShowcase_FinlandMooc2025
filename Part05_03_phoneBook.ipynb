{
 "cells": [
  {
   "cell_type": "markdown",
   "id": "ffe7724a",
   "metadata": {},
   "source": [
    "# Phone Book with Dictionary\n",
    "\n",
    "Write a phone book application. Each entry should now accommodate multiple phone numbers. The application should work otherwise exactly as above, but this time all numbers attached to a name should be printed."
   ]
  },
  {
   "cell_type": "code",
   "execution_count": null,
   "id": "17e94f31",
   "metadata": {},
   "outputs": [],
   "source": [
    "def search(persons: dict):\n",
    "    name = input(\"name: \")\n",
    "    if name in persons:\n",
    "        for item in persons[name]:\n",
    "            print(item)  # print all numbers in [number]\n",
    "    else:\n",
    "        print(\"no number\")\n",
    " \n",
    "def add(persons: dict):\n",
    "    name = input(\"name: \")\n",
    "    number = input(\"number: \")\n",
    "    if name not in persons:\n",
    "        persons[name] = []\n",
    "    persons[name].append(number) # name:[numbers]\n",
    "    print(\"ok!\")\n",
    " \n",
    "def main():\n",
    "    persons = {}\n",
    "    while True:\n",
    "        cmd = input(\"command (1 search, 2 add, 3 quit): \")\n",
    "        if cmd == \"1\":\n",
    "            search(persons)\n",
    "        if cmd == \"2\":\n",
    "            add(persons)\n",
    "        if cmd == \"3\":\n",
    "            break\n",
    "    print(\"quitting...\")\n",
    "\n",
    "\n",
    "\n",
    "main()"
   ]
  }
 ],
 "metadata": {
  "language_info": {
   "name": "python"
  }
 },
 "nbformat": 4,
 "nbformat_minor": 5
}
